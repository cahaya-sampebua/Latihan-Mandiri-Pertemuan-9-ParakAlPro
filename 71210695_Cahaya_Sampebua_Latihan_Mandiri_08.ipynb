{
  "nbformat": 4,
  "nbformat_minor": 0,
  "metadata": {
    "colab": {
      "provenance": []
    },
    "kernelspec": {
      "name": "python3",
      "display_name": "Python 3"
    },
    "language_info": {
      "name": "python"
    }
  },
  "cells": [
    {
      "cell_type": "code",
      "execution_count": 3,
      "metadata": {
        "id": "i_ngUvZFZsdR",
        "colab": {
          "base_uri": "https://localhost:8080/"
        },
        "outputId": "98748db8-3579-4fd4-8e31-293700b8b7cc"
      },
      "outputs": [
        {
          "output_type": "stream",
          "name": "stdout",
          "text": [
            "Masukkan nama file pertama (txt): buah.txt\n",
            "Masukkan nama file kedua (txt): buahjuga.txt\n",
            "Berbeda di baris 1, (stroberi, nanas).\n",
            "Berbeda di baris 3, (apel, alpukat).\n",
            "Berbeda di baris 5, (jeruk, nanas).\n",
            "Berbeda di baris 6, (buah naga, pepaya).\n",
            "Berbeda di baris 7, (pepaya, semangka).\n"
          ]
        }
      ],
      "source": [
        "#Soal 1\n",
        "\n",
        "file_satu = input(\"Masukkan nama file pertama (txt): \")\n",
        "file_dua = input(\"Masukkan nama file kedua (txt): \")\n",
        "\n",
        "buka1 = open(file_satu,\"r\")\n",
        "buka2 = open(file_dua,\"r\")\n",
        "\n",
        "baris = 0\n",
        "\n",
        "for i in buka1:\n",
        "    baris += 1\n",
        "    list = []\n",
        "    list.append(i.strip())\n",
        "\n",
        "    for j in buka2:\n",
        "        list.append(j.strip())\n",
        "        break\n",
        "\n",
        "    try:\n",
        "        if list[0] == list[1]:\n",
        "            continue\n",
        "        else:\n",
        "            print(\"Berbeda di baris {}, ({}, {}).\".format(baris,list[0],list[1]))\n",
        "    except:\n",
        "        break\n",
        "\n",
        "buka1.close()\n",
        "buka2.close()"
      ]
    },
    {
      "cell_type": "code",
      "source": [
        "#Soal 2\n",
        "\n",
        "file = input(\"Nama file1: \")\n",
        "file = open(file,\"r\")\n",
        "\n",
        "for line in file:\n",
        "    line = line.strip(\"\\n\")\n",
        "    line = line.split(\" || \")\n",
        "\n",
        "    print(line[0])\n",
        "\n",
        "    jawab = input(\"Jawab: \")\n",
        "    jawab = jawab.lower()\n",
        "\n",
        "    if jawab == line[1].lower():\n",
        "        print(\"Jawaban benar!\")\n",
        "    else:\n",
        "        print(\"Jawaban salah!\")\n",
        "\n",
        "    print()\n",
        "\n",
        "file.close()"
      ],
      "metadata": {
        "id": "3qGnxLzzhgt-",
        "colab": {
          "base_uri": "https://localhost:8080/"
        },
        "outputId": "71d2cc7f-b5b8-4fe3-b845-628b5d212ff8"
      },
      "execution_count": 4,
      "outputs": [
        {
          "output_type": "stream",
          "name": "stdout",
          "text": [
            "Nama file1: soal.txt\n",
            "1+1 =\n",
            "Jawab: 2\n",
            "Jawaban benar!\n",
            "\n",
            "Bendera Indonesia?\n",
            "Jawab: merah putih\n",
            "Jawaban benar!\n",
            "\n",
            "Kota gudeg adalah:\n",
            "Jawab: yogya\n",
            "Jawaban salah!\n",
            "\n",
            "Komponen PC untuk penyimpanan file adalah...\n",
            "Jawab: HARDDISk\n",
            "Jawaban benar!\n",
            "\n",
            "50 * 20 =\n",
            "Jawab: 204\n",
            "Jawaban salah!\n",
            "\n"
          ]
        }
      ]
    }
  ]
}